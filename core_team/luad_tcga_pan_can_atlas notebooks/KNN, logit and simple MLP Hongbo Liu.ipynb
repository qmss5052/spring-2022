{
 "cells": [
  {
   "cell_type": "code",
   "execution_count": null,
   "id": "e8a97c1b",
   "metadata": {
    "id": "e8a97c1b"
   },
   "outputs": [],
   "source": [
    "import pandas as pd\n",
    "import numpy as np\n",
    "import scipy as sp\n",
    "import matplotlib as mpl\n",
    "import seaborn as sns\n",
    "import matplotlib.pyplot as plt\n",
    "from sklearn.linear_model import LinearRegression\n",
    "from sklearn.model_selection import train_test_split\n",
    "import numpy as np\n",
    "from sklearn.datasets import load_boston\n",
    "from sklearn import preprocessing\n",
    "from sklearn.preprocessing import StandardScaler\n",
    "import statsmodels.api as sm\n",
    "from sklearn.linear_model import LogisticRegression\n",
    "from sklearn.neighbors import KNeighborsRegressor\n",
    "from sklearn.model_selection import cross_val_score\n",
    "from sklearn.model_selection import RepeatedKFold\n",
    "from sklearn.model_selection import StratifiedKFold\n",
    "from sklearn.model_selection import KFold\n",
    "import numpy as np\n",
    "from statistics import mean \n",
    "from sklearn.model_selection import GridSearchCV\n",
    "from sklearn.neighbors import KNeighborsClassifier\n",
    "from sklearn.model_selection import train_test_split\n",
    "from sklearn.linear_model import LogisticRegression\n",
    "from sklearn.neural_network import MLPClassifier\n",
    "from sklearn.datasets import make_classification\n",
    "from sklearn.model_selection import train_test_split"
   ]
  },
  {
   "cell_type": "code",
   "execution_count": null,
   "id": "2bde9da3",
   "metadata": {
    "id": "2bde9da3"
   },
   "outputs": [],
   "source": [
    "df=pd.read_csv(\"C:/Users/22151/Desktop/prac/mRNA_luad_cancer_selected_features_with_stage.txt\")"
   ]
  },
  {
   "cell_type": "code",
   "execution_count": null,
   "id": "9fa7b157",
   "metadata": {
    "id": "9fa7b157",
    "outputId": "184a3090-ea79-47f5-f6ee-341a6d2561ac",
    "scrolled": true
   },
   "outputs": [
    {
     "data": {
      "text/html": [
       "<div>\n",
       "<style scoped>\n",
       "    .dataframe tbody tr th:only-of-type {\n",
       "        vertical-align: middle;\n",
       "    }\n",
       "\n",
       "    .dataframe tbody tr th {\n",
       "        vertical-align: top;\n",
       "    }\n",
       "\n",
       "    .dataframe thead th {\n",
       "        text-align: right;\n",
       "    }\n",
       "</style>\n",
       "<table border=\"1\" class=\"dataframe\">\n",
       "  <thead>\n",
       "    <tr style=\"text-align: right;\">\n",
       "      <th></th>\n",
       "      <th>Unnamed: 0</th>\n",
       "      <th>SAMPLE_ID</th>\n",
       "      <th>TP53</th>\n",
       "      <th>LRP1B</th>\n",
       "      <th>KRAS</th>\n",
       "      <th>PCLO</th>\n",
       "      <th>KEAP1</th>\n",
       "      <th>CDKN2A</th>\n",
       "      <th>CDKN2B</th>\n",
       "      <th>PTPRD</th>\n",
       "      <th>...</th>\n",
       "      <th>MYD88</th>\n",
       "      <th>DNAJB1</th>\n",
       "      <th>TAL2</th>\n",
       "      <th>VHL</th>\n",
       "      <th>RRAS</th>\n",
       "      <th>SUFU</th>\n",
       "      <th>YPEL5</th>\n",
       "      <th>CNBP</th>\n",
       "      <th>CANCER</th>\n",
       "      <th>AJCC_PATHOLOGIC_TUMOR_STAGE</th>\n",
       "    </tr>\n",
       "  </thead>\n",
       "  <tbody>\n",
       "    <tr>\n",
       "      <th>0</th>\n",
       "      <td>1</td>\n",
       "      <td>TCGA-05-4244-01</td>\n",
       "      <td>1.8485</td>\n",
       "      <td>-1.3344</td>\n",
       "      <td>3.3122</td>\n",
       "      <td>-1.1040</td>\n",
       "      <td>0.4341</td>\n",
       "      <td>0.3579</td>\n",
       "      <td>-4.9171</td>\n",
       "      <td>-4.9219</td>\n",
       "      <td>...</td>\n",
       "      <td>-0.6545</td>\n",
       "      <td>0.7177</td>\n",
       "      <td>-0.4452</td>\n",
       "      <td>0.7018</td>\n",
       "      <td>-3.8643</td>\n",
       "      <td>-1.0992</td>\n",
       "      <td>0.0804</td>\n",
       "      <td>-1.6262</td>\n",
       "      <td>1</td>\n",
       "      <td>4.0</td>\n",
       "    </tr>\n",
       "    <tr>\n",
       "      <th>1</th>\n",
       "      <td>2</td>\n",
       "      <td>TCGA-05-4249-01</td>\n",
       "      <td>5.1031</td>\n",
       "      <td>-2.1999</td>\n",
       "      <td>7.8642</td>\n",
       "      <td>-2.0559</td>\n",
       "      <td>0.9739</td>\n",
       "      <td>3.9552</td>\n",
       "      <td>-1.1988</td>\n",
       "      <td>-1.2415</td>\n",
       "      <td>...</td>\n",
       "      <td>-0.0951</td>\n",
       "      <td>-1.1713</td>\n",
       "      <td>-2.1687</td>\n",
       "      <td>0.9997</td>\n",
       "      <td>-5.5307</td>\n",
       "      <td>1.8450</td>\n",
       "      <td>0.1412</td>\n",
       "      <td>-1.3173</td>\n",
       "      <td>1</td>\n",
       "      <td>1.0</td>\n",
       "    </tr>\n",
       "    <tr>\n",
       "      <th>2</th>\n",
       "      <td>3</td>\n",
       "      <td>TCGA-05-4250-01</td>\n",
       "      <td>-5.6229</td>\n",
       "      <td>-0.0825</td>\n",
       "      <td>7.9838</td>\n",
       "      <td>0.3692</td>\n",
       "      <td>-0.5459</td>\n",
       "      <td>5.6423</td>\n",
       "      <td>-3.8793</td>\n",
       "      <td>-2.9943</td>\n",
       "      <td>...</td>\n",
       "      <td>-0.9910</td>\n",
       "      <td>0.9927</td>\n",
       "      <td>1.0133</td>\n",
       "      <td>0.2920</td>\n",
       "      <td>-2.5057</td>\n",
       "      <td>-0.3163</td>\n",
       "      <td>-0.3269</td>\n",
       "      <td>0.2893</td>\n",
       "      <td>1</td>\n",
       "      <td>3.0</td>\n",
       "    </tr>\n",
       "    <tr>\n",
       "      <th>3</th>\n",
       "      <td>4</td>\n",
       "      <td>TCGA-05-4382-01</td>\n",
       "      <td>1.8033</td>\n",
       "      <td>-2.1999</td>\n",
       "      <td>2.2266</td>\n",
       "      <td>-0.2955</td>\n",
       "      <td>-1.3722</td>\n",
       "      <td>5.3724</td>\n",
       "      <td>-1.5561</td>\n",
       "      <td>-1.6959</td>\n",
       "      <td>...</td>\n",
       "      <td>0.6844</td>\n",
       "      <td>-1.9892</td>\n",
       "      <td>0.0170</td>\n",
       "      <td>0.9279</td>\n",
       "      <td>-1.5677</td>\n",
       "      <td>0.7067</td>\n",
       "      <td>-1.6269</td>\n",
       "      <td>-0.4259</td>\n",
       "      <td>1</td>\n",
       "      <td>1.0</td>\n",
       "    </tr>\n",
       "    <tr>\n",
       "      <th>4</th>\n",
       "      <td>5</td>\n",
       "      <td>TCGA-05-4384-01</td>\n",
       "      <td>3.8977</td>\n",
       "      <td>2.5339</td>\n",
       "      <td>1.2420</td>\n",
       "      <td>1.0984</td>\n",
       "      <td>1.0324</td>\n",
       "      <td>1.9087</td>\n",
       "      <td>-2.3277</td>\n",
       "      <td>-1.7272</td>\n",
       "      <td>...</td>\n",
       "      <td>-0.8842</td>\n",
       "      <td>-2.9432</td>\n",
       "      <td>-2.1687</td>\n",
       "      <td>1.5310</td>\n",
       "      <td>-4.4192</td>\n",
       "      <td>1.0284</td>\n",
       "      <td>-0.4190</td>\n",
       "      <td>-0.3444</td>\n",
       "      <td>1</td>\n",
       "      <td>3.0</td>\n",
       "    </tr>\n",
       "  </tbody>\n",
       "</table>\n",
       "<p>5 rows × 964 columns</p>\n",
       "</div>"
      ],
      "text/plain": [
       "   Unnamed: 0        SAMPLE_ID    TP53   LRP1B    KRAS    PCLO   KEAP1  \\\n",
       "0           1  TCGA-05-4244-01  1.8485 -1.3344  3.3122 -1.1040  0.4341   \n",
       "1           2  TCGA-05-4249-01  5.1031 -2.1999  7.8642 -2.0559  0.9739   \n",
       "2           3  TCGA-05-4250-01 -5.6229 -0.0825  7.9838  0.3692 -0.5459   \n",
       "3           4  TCGA-05-4382-01  1.8033 -2.1999  2.2266 -0.2955 -1.3722   \n",
       "4           5  TCGA-05-4384-01  3.8977  2.5339  1.2420  1.0984  1.0324   \n",
       "\n",
       "   CDKN2A  CDKN2B   PTPRD  ...   MYD88  DNAJB1    TAL2     VHL    RRAS  \\\n",
       "0  0.3579 -4.9171 -4.9219  ... -0.6545  0.7177 -0.4452  0.7018 -3.8643   \n",
       "1  3.9552 -1.1988 -1.2415  ... -0.0951 -1.1713 -2.1687  0.9997 -5.5307   \n",
       "2  5.6423 -3.8793 -2.9943  ... -0.9910  0.9927  1.0133  0.2920 -2.5057   \n",
       "3  5.3724 -1.5561 -1.6959  ...  0.6844 -1.9892  0.0170  0.9279 -1.5677   \n",
       "4  1.9087 -2.3277 -1.7272  ... -0.8842 -2.9432 -2.1687  1.5310 -4.4192   \n",
       "\n",
       "     SUFU   YPEL5    CNBP  CANCER  AJCC_PATHOLOGIC_TUMOR_STAGE  \n",
       "0 -1.0992  0.0804 -1.6262       1                          4.0  \n",
       "1  1.8450  0.1412 -1.3173       1                          1.0  \n",
       "2 -0.3163 -0.3269  0.2893       1                          3.0  \n",
       "3  0.7067 -1.6269 -0.4259       1                          1.0  \n",
       "4  1.0284 -0.4190 -0.3444       1                          3.0  \n",
       "\n",
       "[5 rows x 964 columns]"
      ]
     },
     "execution_count": 149,
     "metadata": {},
     "output_type": "execute_result"
    }
   ],
   "source": [
    "df.head()\n"
   ]
  },
  {
   "cell_type": "code",
   "execution_count": null,
   "id": "3ecf8559",
   "metadata": {
    "id": "3ecf8559"
   },
   "outputs": [],
   "source": [
    "y = df['AJCC_PATHOLOGIC_TUMOR_STAGE']\n",
    "X = df.loc[:, df.columns != 'AJCC_PATHOLOGIC_TUMOR_STAGE']\n",
    "X=X.drop ([\"SAMPLE_ID\",\"Unnamed: 0\"],axis=1)"
   ]
  },
  {
   "cell_type": "code",
   "execution_count": null,
   "id": "22078704",
   "metadata": {
    "id": "22078704",
    "outputId": "bad19fbd-4170-491b-f4d4-c048b1cf3b59",
    "scrolled": true
   },
   "outputs": [
    {
     "data": {
      "text/html": [
       "<div>\n",
       "<style scoped>\n",
       "    .dataframe tbody tr th:only-of-type {\n",
       "        vertical-align: middle;\n",
       "    }\n",
       "\n",
       "    .dataframe tbody tr th {\n",
       "        vertical-align: top;\n",
       "    }\n",
       "\n",
       "    .dataframe thead th {\n",
       "        text-align: right;\n",
       "    }\n",
       "</style>\n",
       "<table border=\"1\" class=\"dataframe\">\n",
       "  <thead>\n",
       "    <tr style=\"text-align: right;\">\n",
       "      <th></th>\n",
       "      <th>TP53</th>\n",
       "      <th>LRP1B</th>\n",
       "      <th>KRAS</th>\n",
       "      <th>PCLO</th>\n",
       "      <th>KEAP1</th>\n",
       "      <th>CDKN2A</th>\n",
       "      <th>CDKN2B</th>\n",
       "      <th>PTPRD</th>\n",
       "      <th>FAT4</th>\n",
       "      <th>RELN</th>\n",
       "      <th>...</th>\n",
       "      <th>TLX1</th>\n",
       "      <th>MYD88</th>\n",
       "      <th>DNAJB1</th>\n",
       "      <th>TAL2</th>\n",
       "      <th>VHL</th>\n",
       "      <th>RRAS</th>\n",
       "      <th>SUFU</th>\n",
       "      <th>YPEL5</th>\n",
       "      <th>CNBP</th>\n",
       "      <th>CANCER</th>\n",
       "    </tr>\n",
       "  </thead>\n",
       "  <tbody>\n",
       "    <tr>\n",
       "      <th>0</th>\n",
       "      <td>1.8485</td>\n",
       "      <td>-1.3344</td>\n",
       "      <td>3.3122</td>\n",
       "      <td>-1.1040</td>\n",
       "      <td>0.4341</td>\n",
       "      <td>0.3579</td>\n",
       "      <td>-4.9171</td>\n",
       "      <td>-4.9219</td>\n",
       "      <td>-2.6989</td>\n",
       "      <td>-2.6277</td>\n",
       "      <td>...</td>\n",
       "      <td>1.8694</td>\n",
       "      <td>-0.6545</td>\n",
       "      <td>0.7177</td>\n",
       "      <td>-0.4452</td>\n",
       "      <td>0.7018</td>\n",
       "      <td>-3.8643</td>\n",
       "      <td>-1.0992</td>\n",
       "      <td>0.0804</td>\n",
       "      <td>-1.6262</td>\n",
       "      <td>1</td>\n",
       "    </tr>\n",
       "    <tr>\n",
       "      <th>1</th>\n",
       "      <td>5.1031</td>\n",
       "      <td>-2.1999</td>\n",
       "      <td>7.8642</td>\n",
       "      <td>-2.0559</td>\n",
       "      <td>0.9739</td>\n",
       "      <td>3.9552</td>\n",
       "      <td>-1.1988</td>\n",
       "      <td>-1.2415</td>\n",
       "      <td>-1.8269</td>\n",
       "      <td>-2.6135</td>\n",
       "      <td>...</td>\n",
       "      <td>2.3439</td>\n",
       "      <td>-0.0951</td>\n",
       "      <td>-1.1713</td>\n",
       "      <td>-2.1687</td>\n",
       "      <td>0.9997</td>\n",
       "      <td>-5.5307</td>\n",
       "      <td>1.8450</td>\n",
       "      <td>0.1412</td>\n",
       "      <td>-1.3173</td>\n",
       "      <td>1</td>\n",
       "    </tr>\n",
       "    <tr>\n",
       "      <th>2</th>\n",
       "      <td>-5.6229</td>\n",
       "      <td>-0.0825</td>\n",
       "      <td>7.9838</td>\n",
       "      <td>0.3692</td>\n",
       "      <td>-0.5459</td>\n",
       "      <td>5.6423</td>\n",
       "      <td>-3.8793</td>\n",
       "      <td>-2.9943</td>\n",
       "      <td>-2.9824</td>\n",
       "      <td>-0.5254</td>\n",
       "      <td>...</td>\n",
       "      <td>2.6991</td>\n",
       "      <td>-0.9910</td>\n",
       "      <td>0.9927</td>\n",
       "      <td>1.0133</td>\n",
       "      <td>0.2920</td>\n",
       "      <td>-2.5057</td>\n",
       "      <td>-0.3163</td>\n",
       "      <td>-0.3269</td>\n",
       "      <td>0.2893</td>\n",
       "      <td>1</td>\n",
       "    </tr>\n",
       "    <tr>\n",
       "      <th>3</th>\n",
       "      <td>1.8033</td>\n",
       "      <td>-2.1999</td>\n",
       "      <td>2.2266</td>\n",
       "      <td>-0.2955</td>\n",
       "      <td>-1.3722</td>\n",
       "      <td>5.3724</td>\n",
       "      <td>-1.5561</td>\n",
       "      <td>-1.6959</td>\n",
       "      <td>-2.7915</td>\n",
       "      <td>-0.8632</td>\n",
       "      <td>...</td>\n",
       "      <td>-1.8386</td>\n",
       "      <td>0.6844</td>\n",
       "      <td>-1.9892</td>\n",
       "      <td>0.0170</td>\n",
       "      <td>0.9279</td>\n",
       "      <td>-1.5677</td>\n",
       "      <td>0.7067</td>\n",
       "      <td>-1.6269</td>\n",
       "      <td>-0.4259</td>\n",
       "      <td>1</td>\n",
       "    </tr>\n",
       "    <tr>\n",
       "      <th>4</th>\n",
       "      <td>3.8977</td>\n",
       "      <td>2.5339</td>\n",
       "      <td>1.2420</td>\n",
       "      <td>1.0984</td>\n",
       "      <td>1.0324</td>\n",
       "      <td>1.9087</td>\n",
       "      <td>-2.3277</td>\n",
       "      <td>-1.7272</td>\n",
       "      <td>-1.8158</td>\n",
       "      <td>-1.4483</td>\n",
       "      <td>...</td>\n",
       "      <td>-1.8386</td>\n",
       "      <td>-0.8842</td>\n",
       "      <td>-2.9432</td>\n",
       "      <td>-2.1687</td>\n",
       "      <td>1.5310</td>\n",
       "      <td>-4.4192</td>\n",
       "      <td>1.0284</td>\n",
       "      <td>-0.4190</td>\n",
       "      <td>-0.3444</td>\n",
       "      <td>1</td>\n",
       "    </tr>\n",
       "  </tbody>\n",
       "</table>\n",
       "<p>5 rows × 961 columns</p>\n",
       "</div>"
      ],
      "text/plain": [
       "     TP53   LRP1B    KRAS    PCLO   KEAP1  CDKN2A  CDKN2B   PTPRD    FAT4  \\\n",
       "0  1.8485 -1.3344  3.3122 -1.1040  0.4341  0.3579 -4.9171 -4.9219 -2.6989   \n",
       "1  5.1031 -2.1999  7.8642 -2.0559  0.9739  3.9552 -1.1988 -1.2415 -1.8269   \n",
       "2 -5.6229 -0.0825  7.9838  0.3692 -0.5459  5.6423 -3.8793 -2.9943 -2.9824   \n",
       "3  1.8033 -2.1999  2.2266 -0.2955 -1.3722  5.3724 -1.5561 -1.6959 -2.7915   \n",
       "4  3.8977  2.5339  1.2420  1.0984  1.0324  1.9087 -2.3277 -1.7272 -1.8158   \n",
       "\n",
       "     RELN  ...    TLX1   MYD88  DNAJB1    TAL2     VHL    RRAS    SUFU  \\\n",
       "0 -2.6277  ...  1.8694 -0.6545  0.7177 -0.4452  0.7018 -3.8643 -1.0992   \n",
       "1 -2.6135  ...  2.3439 -0.0951 -1.1713 -2.1687  0.9997 -5.5307  1.8450   \n",
       "2 -0.5254  ...  2.6991 -0.9910  0.9927  1.0133  0.2920 -2.5057 -0.3163   \n",
       "3 -0.8632  ... -1.8386  0.6844 -1.9892  0.0170  0.9279 -1.5677  0.7067   \n",
       "4 -1.4483  ... -1.8386 -0.8842 -2.9432 -2.1687  1.5310 -4.4192  1.0284   \n",
       "\n",
       "    YPEL5    CNBP  CANCER  \n",
       "0  0.0804 -1.6262       1  \n",
       "1  0.1412 -1.3173       1  \n",
       "2 -0.3269  0.2893       1  \n",
       "3 -1.6269 -0.4259       1  \n",
       "4 -0.4190 -0.3444       1  \n",
       "\n",
       "[5 rows x 961 columns]"
      ]
     },
     "execution_count": 151,
     "metadata": {},
     "output_type": "execute_result"
    }
   ],
   "source": [
    "X.head()"
   ]
  },
  {
   "cell_type": "code",
   "execution_count": null,
   "id": "6350eea9",
   "metadata": {
    "id": "6350eea9",
    "outputId": "65230451-f67b-4599-a553-a43c410e745f"
   },
   "outputs": [
    {
     "data": {
      "text/plain": [
       "82.8193"
      ]
     },
     "execution_count": 241,
     "metadata": {},
     "output_type": "execute_result"
    }
   ],
   "source": [
    "X.max().max()"
   ]
  },
  {
   "cell_type": "code",
   "execution_count": null,
   "id": "2aad0197",
   "metadata": {
    "id": "2aad0197"
   },
   "outputs": [],
   "source": [
    "X= X.replace(np.nan, 0)"
   ]
  },
  {
   "cell_type": "code",
   "execution_count": null,
   "id": "3c3b708f",
   "metadata": {
    "id": "3c3b708f"
   },
   "outputs": [],
   "source": [
    "y= y.replace(np.nan, 0)"
   ]
  },
  {
   "cell_type": "code",
   "execution_count": null,
   "id": "09935b0d",
   "metadata": {
    "id": "09935b0d",
    "outputId": "2c2414d4-c332-46d0-81b0-1c2e3e652edb"
   },
   "outputs": [
    {
     "name": "stdout",
     "output_type": "stream",
     "text": [
      "<class 'pandas.core.frame.DataFrame'>\n"
     ]
    }
   ],
   "source": [
    "X_train, X_test, y_train, y_test = train_test_split(X, y,random_state=0)\n",
    "\n",
    "print(type(X_train))"
   ]
  },
  {
   "cell_type": "code",
   "execution_count": null,
   "id": "8088c006",
   "metadata": {
    "id": "8088c006"
   },
   "outputs": [],
   "source": [
    "v=np.arange(0, 960)"
   ]
  },
  {
   "cell_type": "code",
   "execution_count": null,
   "id": "065fcb41",
   "metadata": {
    "id": "065fcb41",
    "outputId": "44de7e40-6665-44c4-fae5-e15efb3b5343"
   },
   "outputs": [
    {
     "name": "stderr",
     "output_type": "stream",
     "text": [
      "C:\\Users\\22151\\anaconda3\\lib\\site-packages\\sklearn\\model_selection\\_split.py:666: UserWarning: The least populated class in y has only 1 members, which is less than n_splits=5.\n",
      "  warnings.warn((\"The least populated class in y has only %d\"\n"
     ]
    },
    {
     "name": "stdout",
     "output_type": "stream",
     "text": [
      "best mean cross-validation score: 0.573\n",
      "best parameters: {'n_neighbors': 18}\n",
      "test-set score: 0.477\n"
     ]
    }
   ],
   "source": [
    "\n",
    "param_grid = {'n_neighbors': np.arange(1, 50)} #np.arange creates sequence of numbers for each k value\n",
    "\n",
    "grid = GridSearchCV(KNeighborsClassifier(), param_grid=param_grid)\n",
    "\n",
    "#use meta model methods to fit score and predict model:\n",
    "grid.fit(X_train, y_train)\n",
    "\n",
    "print(\"best mean cross-validation score: {:.3f}\".format(grid.best_score_))\n",
    "print(\"best parameters: {}\".format(grid.best_params_))\n",
    "print(\"test-set score: {:.3f}\".format(grid.score(X_test, y_test)))\n",
    "\n"
   ]
  },
  {
   "cell_type": "code",
   "execution_count": null,
   "id": "780da620",
   "metadata": {
    "id": "780da620"
   },
   "outputs": [],
   "source": []
  },
  {
   "cell_type": "code",
   "execution_count": null,
   "id": "6fc68f8a",
   "metadata": {
    "id": "6fc68f8a",
    "outputId": "9ffb5fce-5ab5-4585-a8c2-813ed7149837"
   },
   "outputs": [
    {
     "data": {
      "text/plain": [
       "array([[-3.0771],\n",
       "       [-2.1999],\n",
       "       [-0.9749],\n",
       "       ...,\n",
       "       [-1.7314],\n",
       "       [-1.855 ],\n",
       "       [ 1.    ]])"
      ]
     },
     "execution_count": 196,
     "metadata": {},
     "output_type": "execute_result"
    }
   ],
   "source": [
    "np.array(X_train).reshape(-1,1)"
   ]
  },
  {
   "cell_type": "code",
   "execution_count": null,
   "id": "d2d00a18",
   "metadata": {
    "id": "d2d00a18",
    "outputId": "48e95376-3276-427b-ddd8-45badc90ab8d",
    "scrolled": true
   },
   "outputs": [
    {
     "data": {
      "text/plain": [
       "LogisticRegression(C=1000, multi_class='multinomial')"
      ]
     },
     "execution_count": 197,
     "metadata": {},
     "output_type": "execute_result"
    }
   ],
   "source": [
    "model = LogisticRegression(C=1000,multi_class='multinomial')\n",
    "model.fit(np.array(X_train.iloc[:,0]).reshape(-1,1), y_train)"
   ]
  },
  {
   "cell_type": "code",
   "execution_count": null,
   "id": "3455ddb1",
   "metadata": {
    "id": "3455ddb1",
    "outputId": "858cf7b5-3485-441c-ccd6-78229ddf1d13"
   },
   "outputs": [
    {
     "data": {
      "text/plain": [
       "0.4609375"
      ]
     },
     "execution_count": 198,
     "metadata": {},
     "output_type": "execute_result"
    }
   ],
   "source": [
    "logreg = LogisticRegression(C=100,multi_class='multinomial').fit(np.array(X_train.iloc[:,1]).reshape(-1,1), y_train)\n",
    "logreg.score(np.array(X_test.iloc[:,1]).reshape(-1,1), y_test)"
   ]
  },
  {
   "cell_type": "code",
   "execution_count": null,
   "id": "2dd97041",
   "metadata": {
    "id": "2dd97041",
    "outputId": "f3df3a4b-1d16-42ae-ca50-7e955c1846dd"
   },
   "outputs": [
    {
     "data": {
      "text/plain": [
       "array([[ 0.01003495],\n",
       "       [ 0.01292056],\n",
       "       [-0.10534378],\n",
       "       [-0.00922154],\n",
       "       [ 0.09160981]])"
      ]
     },
     "execution_count": 199,
     "metadata": {},
     "output_type": "execute_result"
    }
   ],
   "source": [
    "logreg .coef_"
   ]
  },
  {
   "cell_type": "code",
   "execution_count": null,
   "id": "3838b265",
   "metadata": {
    "id": "3838b265"
   },
   "outputs": [],
   "source": [
    "v= np.arange(0,960)\n",
    "k={}"
   ]
  },
  {
   "cell_type": "code",
   "execution_count": null,
   "id": "3c218981",
   "metadata": {
    "id": "3c218981"
   },
   "outputs": [],
   "source": []
  },
  {
   "cell_type": "code",
   "execution_count": null,
   "id": "7ed733fb",
   "metadata": {
    "id": "7ed733fb"
   },
   "outputs": [],
   "source": [
    "for x in v:\n",
    "    logreg = LogisticRegression(C=100,multi_class='multinomial').fit(np.array(X_train.iloc[:,x]).reshape(-1,1), y_train)\n",
    "    score= logreg.score(np.array(X_test.iloc[:,x]).reshape(-1,1), y_test)\n",
    "    k[x]=score"
   ]
  },
  {
   "cell_type": "code",
   "execution_count": null,
   "id": "309802a7",
   "metadata": {
    "id": "309802a7",
    "scrolled": false
   },
   "outputs": [],
   "source": [
    "new_k=dict(sorted(k.items(), key=lambda item: item[1],reverse=True))"
   ]
  },
  {
   "cell_type": "code",
   "execution_count": null,
   "id": "f6b36531",
   "metadata": {
    "id": "f6b36531"
   },
   "outputs": [],
   "source": [
    "p=sorted(k, key=k.get, reverse=True)[:15]"
   ]
  },
  {
   "cell_type": "code",
   "execution_count": null,
   "id": "0aa13804",
   "metadata": {
    "id": "0aa13804",
    "outputId": "bc57da08-19f5-4752-da3e-78dfe67818de",
    "scrolled": true
   },
   "outputs": [
    {
     "name": "stdout",
     "output_type": "stream",
     "text": [
      "0.4765625\n"
     ]
    }
   ],
   "source": [
    "logreg = LogisticRegression(C=10000).fit(X_train.iloc[:,[417,161,247,338]], y_train)\n",
    "score= logreg.score(np.array(X_test.iloc[:,[417,161,247,338]]), y_test)\n",
    "print(score)"
   ]
  },
  {
   "cell_type": "code",
   "execution_count": null,
   "id": "c5759200",
   "metadata": {
    "id": "c5759200",
    "outputId": "650a6452-543b-463d-ec62-af8c093cca4c"
   },
   "outputs": [
    {
     "name": "stdout",
     "output_type": "stream",
     "text": [
      "0.3515625\n"
     ]
    }
   ],
   "source": [
    "logreg_1 = LogisticRegression(C=100000,multi_class='multinomial').fit(X_train, y_train)\n",
    "score= logreg_1.score(X_test,y_test)\n",
    "print(score)"
   ]
  },
  {
   "cell_type": "code",
   "execution_count": null,
   "id": "63fe5b8c",
   "metadata": {
    "id": "63fe5b8c"
   },
   "outputs": [],
   "source": []
  },
  {
   "cell_type": "code",
   "execution_count": null,
   "id": "f876ff47",
   "metadata": {
    "id": "f876ff47",
    "outputId": "80bde2be-9dba-4684-e81b-787b2670949f"
   },
   "outputs": [
    {
     "data": {
      "text/html": [
       "<div>\n",
       "<style scoped>\n",
       "    .dataframe tbody tr th:only-of-type {\n",
       "        vertical-align: middle;\n",
       "    }\n",
       "\n",
       "    .dataframe tbody tr th {\n",
       "        vertical-align: top;\n",
       "    }\n",
       "\n",
       "    .dataframe thead th {\n",
       "        text-align: right;\n",
       "    }\n",
       "</style>\n",
       "<table border=\"1\" class=\"dataframe\">\n",
       "  <thead>\n",
       "    <tr style=\"text-align: right;\">\n",
       "      <th></th>\n",
       "      <th>BCL11A</th>\n",
       "      <th>LMO1</th>\n",
       "      <th>KEAP1</th>\n",
       "      <th>PDCD11</th>\n",
       "      <th>MLLT3</th>\n",
       "      <th>DDX10</th>\n",
       "      <th>CCT6B</th>\n",
       "      <th>SETDB2</th>\n",
       "      <th>MLH1</th>\n",
       "      <th>FURIN</th>\n",
       "      <th>SLC1A2</th>\n",
       "      <th>ACVR2A</th>\n",
       "      <th>ERRFI1</th>\n",
       "      <th>LMO2</th>\n",
       "      <th>SH3GL1</th>\n",
       "    </tr>\n",
       "  </thead>\n",
       "  <tbody>\n",
       "    <tr>\n",
       "      <th>0</th>\n",
       "      <td>0.4853</td>\n",
       "      <td>-0.4041</td>\n",
       "      <td>0.4341</td>\n",
       "      <td>0.8249</td>\n",
       "      <td>-2.2535</td>\n",
       "      <td>-6.6033</td>\n",
       "      <td>1.9728</td>\n",
       "      <td>-3.2212</td>\n",
       "      <td>-0.7821</td>\n",
       "      <td>-2.5195</td>\n",
       "      <td>-4.4575</td>\n",
       "      <td>-4.0010</td>\n",
       "      <td>1.3531</td>\n",
       "      <td>-3.4862</td>\n",
       "      <td>-1.0418</td>\n",
       "    </tr>\n",
       "    <tr>\n",
       "      <th>1</th>\n",
       "      <td>2.3773</td>\n",
       "      <td>0.1268</td>\n",
       "      <td>0.9739</td>\n",
       "      <td>2.4130</td>\n",
       "      <td>1.2037</td>\n",
       "      <td>2.8199</td>\n",
       "      <td>0.0382</td>\n",
       "      <td>1.6299</td>\n",
       "      <td>0.6329</td>\n",
       "      <td>0.7011</td>\n",
       "      <td>-1.5190</td>\n",
       "      <td>1.0703</td>\n",
       "      <td>-0.3309</td>\n",
       "      <td>-3.4671</td>\n",
       "      <td>2.0057</td>\n",
       "    </tr>\n",
       "    <tr>\n",
       "      <th>2</th>\n",
       "      <td>-1.2856</td>\n",
       "      <td>1.4757</td>\n",
       "      <td>-0.5459</td>\n",
       "      <td>1.9086</td>\n",
       "      <td>0.5060</td>\n",
       "      <td>4.5357</td>\n",
       "      <td>-1.5571</td>\n",
       "      <td>-3.2806</td>\n",
       "      <td>-0.1754</td>\n",
       "      <td>1.4363</td>\n",
       "      <td>-7.0535</td>\n",
       "      <td>-1.4897</td>\n",
       "      <td>2.3703</td>\n",
       "      <td>-4.5359</td>\n",
       "      <td>0.9877</td>\n",
       "    </tr>\n",
       "    <tr>\n",
       "      <th>3</th>\n",
       "      <td>-1.0051</td>\n",
       "      <td>-1.4634</td>\n",
       "      <td>-1.3722</td>\n",
       "      <td>1.5427</td>\n",
       "      <td>3.8884</td>\n",
       "      <td>3.3459</td>\n",
       "      <td>-1.5222</td>\n",
       "      <td>-1.2085</td>\n",
       "      <td>-0.7660</td>\n",
       "      <td>-0.7191</td>\n",
       "      <td>-4.9839</td>\n",
       "      <td>1.0533</td>\n",
       "      <td>0.4674</td>\n",
       "      <td>-2.8561</td>\n",
       "      <td>2.5643</td>\n",
       "    </tr>\n",
       "    <tr>\n",
       "      <th>4</th>\n",
       "      <td>-0.0920</td>\n",
       "      <td>2.4202</td>\n",
       "      <td>1.0324</td>\n",
       "      <td>1.4351</td>\n",
       "      <td>0.9011</td>\n",
       "      <td>-0.1661</td>\n",
       "      <td>0.0458</td>\n",
       "      <td>0.4813</td>\n",
       "      <td>2.0723</td>\n",
       "      <td>3.8839</td>\n",
       "      <td>-0.9595</td>\n",
       "      <td>-0.4318</td>\n",
       "      <td>1.5439</td>\n",
       "      <td>-2.3210</td>\n",
       "      <td>-0.7154</td>\n",
       "    </tr>\n",
       "    <tr>\n",
       "      <th>...</th>\n",
       "      <td>...</td>\n",
       "      <td>...</td>\n",
       "      <td>...</td>\n",
       "      <td>...</td>\n",
       "      <td>...</td>\n",
       "      <td>...</td>\n",
       "      <td>...</td>\n",
       "      <td>...</td>\n",
       "      <td>...</td>\n",
       "      <td>...</td>\n",
       "      <td>...</td>\n",
       "      <td>...</td>\n",
       "      <td>...</td>\n",
       "      <td>...</td>\n",
       "      <td>...</td>\n",
       "    </tr>\n",
       "    <tr>\n",
       "      <th>505</th>\n",
       "      <td>0.0020</td>\n",
       "      <td>-0.3201</td>\n",
       "      <td>-0.1597</td>\n",
       "      <td>0.8287</td>\n",
       "      <td>0.9255</td>\n",
       "      <td>0.1653</td>\n",
       "      <td>0.3513</td>\n",
       "      <td>-0.9265</td>\n",
       "      <td>-1.5635</td>\n",
       "      <td>6.0183</td>\n",
       "      <td>-1.3298</td>\n",
       "      <td>1.2668</td>\n",
       "      <td>-0.0744</td>\n",
       "      <td>-3.1740</td>\n",
       "      <td>0.5763</td>\n",
       "    </tr>\n",
       "    <tr>\n",
       "      <th>506</th>\n",
       "      <td>2.0361</td>\n",
       "      <td>1.3101</td>\n",
       "      <td>1.9488</td>\n",
       "      <td>1.7840</td>\n",
       "      <td>0.6511</td>\n",
       "      <td>0.4257</td>\n",
       "      <td>-0.2404</td>\n",
       "      <td>-2.0634</td>\n",
       "      <td>1.3023</td>\n",
       "      <td>3.4638</td>\n",
       "      <td>-2.0041</td>\n",
       "      <td>0.8053</td>\n",
       "      <td>-0.2032</td>\n",
       "      <td>-4.2222</td>\n",
       "      <td>-0.8515</td>\n",
       "    </tr>\n",
       "    <tr>\n",
       "      <th>507</th>\n",
       "      <td>-1.2911</td>\n",
       "      <td>-1.4634</td>\n",
       "      <td>1.2164</td>\n",
       "      <td>2.3634</td>\n",
       "      <td>0.1954</td>\n",
       "      <td>1.1826</td>\n",
       "      <td>-1.4081</td>\n",
       "      <td>-0.9316</td>\n",
       "      <td>-4.2358</td>\n",
       "      <td>0.7584</td>\n",
       "      <td>-4.8433</td>\n",
       "      <td>-0.9203</td>\n",
       "      <td>2.9497</td>\n",
       "      <td>-6.1535</td>\n",
       "      <td>2.2607</td>\n",
       "    </tr>\n",
       "    <tr>\n",
       "      <th>508</th>\n",
       "      <td>0.3406</td>\n",
       "      <td>-0.4708</td>\n",
       "      <td>-0.1347</td>\n",
       "      <td>1.8285</td>\n",
       "      <td>-0.5636</td>\n",
       "      <td>1.9405</td>\n",
       "      <td>-0.3425</td>\n",
       "      <td>-1.4359</td>\n",
       "      <td>-0.9531</td>\n",
       "      <td>1.6057</td>\n",
       "      <td>-1.5438</td>\n",
       "      <td>-1.9590</td>\n",
       "      <td>-0.3001</td>\n",
       "      <td>-5.1965</td>\n",
       "      <td>-0.6726</td>\n",
       "    </tr>\n",
       "    <tr>\n",
       "      <th>509</th>\n",
       "      <td>1.8061</td>\n",
       "      <td>-1.4634</td>\n",
       "      <td>0.1127</td>\n",
       "      <td>0.5160</td>\n",
       "      <td>1.2603</td>\n",
       "      <td>1.3516</td>\n",
       "      <td>2.0397</td>\n",
       "      <td>0.1634</td>\n",
       "      <td>-1.6293</td>\n",
       "      <td>-0.0239</td>\n",
       "      <td>-0.4332</td>\n",
       "      <td>0.0066</td>\n",
       "      <td>-1.5354</td>\n",
       "      <td>-3.0200</td>\n",
       "      <td>0.7773</td>\n",
       "    </tr>\n",
       "  </tbody>\n",
       "</table>\n",
       "<p>510 rows × 15 columns</p>\n",
       "</div>"
      ],
      "text/plain": [
       "     BCL11A    LMO1   KEAP1  PDCD11   MLLT3   DDX10   CCT6B  SETDB2    MLH1  \\\n",
       "0    0.4853 -0.4041  0.4341  0.8249 -2.2535 -6.6033  1.9728 -3.2212 -0.7821   \n",
       "1    2.3773  0.1268  0.9739  2.4130  1.2037  2.8199  0.0382  1.6299  0.6329   \n",
       "2   -1.2856  1.4757 -0.5459  1.9086  0.5060  4.5357 -1.5571 -3.2806 -0.1754   \n",
       "3   -1.0051 -1.4634 -1.3722  1.5427  3.8884  3.3459 -1.5222 -1.2085 -0.7660   \n",
       "4   -0.0920  2.4202  1.0324  1.4351  0.9011 -0.1661  0.0458  0.4813  2.0723   \n",
       "..      ...     ...     ...     ...     ...     ...     ...     ...     ...   \n",
       "505  0.0020 -0.3201 -0.1597  0.8287  0.9255  0.1653  0.3513 -0.9265 -1.5635   \n",
       "506  2.0361  1.3101  1.9488  1.7840  0.6511  0.4257 -0.2404 -2.0634  1.3023   \n",
       "507 -1.2911 -1.4634  1.2164  2.3634  0.1954  1.1826 -1.4081 -0.9316 -4.2358   \n",
       "508  0.3406 -0.4708 -0.1347  1.8285 -0.5636  1.9405 -0.3425 -1.4359 -0.9531   \n",
       "509  1.8061 -1.4634  0.1127  0.5160  1.2603  1.3516  2.0397  0.1634 -1.6293   \n",
       "\n",
       "      FURIN  SLC1A2  ACVR2A  ERRFI1    LMO2  SH3GL1  \n",
       "0   -2.5195 -4.4575 -4.0010  1.3531 -3.4862 -1.0418  \n",
       "1    0.7011 -1.5190  1.0703 -0.3309 -3.4671  2.0057  \n",
       "2    1.4363 -7.0535 -1.4897  2.3703 -4.5359  0.9877  \n",
       "3   -0.7191 -4.9839  1.0533  0.4674 -2.8561  2.5643  \n",
       "4    3.8839 -0.9595 -0.4318  1.5439 -2.3210 -0.7154  \n",
       "..      ...     ...     ...     ...     ...     ...  \n",
       "505  6.0183 -1.3298  1.2668 -0.0744 -3.1740  0.5763  \n",
       "506  3.4638 -2.0041  0.8053 -0.2032 -4.2222 -0.8515  \n",
       "507  0.7584 -4.8433 -0.9203  2.9497 -6.1535  2.2607  \n",
       "508  1.6057 -1.5438 -1.9590 -0.3001 -5.1965 -0.6726  \n",
       "509 -0.0239 -0.4332  0.0066 -1.5354 -3.0200  0.7773  \n",
       "\n",
       "[510 rows x 15 columns]"
      ]
     },
     "execution_count": 194,
     "metadata": {},
     "output_type": "execute_result"
    }
   ],
   "source": [
    "X.iloc[:,p]"
   ]
  },
  {
   "cell_type": "markdown",
   "id": "a45ffeac",
   "metadata": {
    "id": "a45ffeac"
   },
   "source": [
    "Here we can see the 14 most important gene to predict the tumor stage are FGF12\tPDCD11 PTCH1 CUX1 NOTCH3 KDM4C TYRO3 DDX10 MLH1 ZNF384 SETD4 PHF1 SH3GL1 SETD7 TP53"
   ]
  },
  {
   "cell_type": "code",
   "execution_count": null,
   "id": "2ac66506",
   "metadata": {
    "id": "2ac66506"
   },
   "outputs": [],
   "source": [
    "V= np.arange(0,960)\n",
    "K={}"
   ]
  },
  {
   "cell_type": "code",
   "execution_count": null,
   "id": "161b908d",
   "metadata": {
    "id": "161b908d"
   },
   "outputs": [],
   "source": [
    "for x in V:\n",
    "    LR = LinearRegression().fit(np.array(X_train.iloc[:,x]).reshape(-1,1), y_train)\n",
    "    score= LR.score(np.array(X_test.iloc[:,x]).reshape(-1,1), y_test)\n",
    "    K[x]=score"
   ]
  },
  {
   "cell_type": "code",
   "execution_count": null,
   "id": "d76746ed",
   "metadata": {
    "id": "d76746ed"
   },
   "outputs": [],
   "source": [
    "new_k=dict(sorted(k.items(), key=lambda item: item[1],reverse=True))"
   ]
  },
  {
   "cell_type": "code",
   "execution_count": null,
   "id": "f68b17b1",
   "metadata": {
    "id": "f68b17b1"
   },
   "outputs": [],
   "source": [
    "p=sorted(k, key=k.get, reverse=True)[:15]"
   ]
  },
  {
   "cell_type": "code",
   "execution_count": null,
   "id": "1993e376",
   "metadata": {
    "id": "1993e376",
    "outputId": "7f390060-cecf-4d4a-c733-9c3407d52bd5"
   },
   "outputs": [
    {
     "data": {
      "text/plain": [
       "[164, 879, 4, 161, 231, 392, 396, 397, 569, 606, 655, 696, 715, 746, 864]"
      ]
     },
     "execution_count": 234,
     "metadata": {},
     "output_type": "execute_result"
    }
   ],
   "source": [
    "p"
   ]
  },
  {
   "cell_type": "code",
   "execution_count": null,
   "id": "2d8092f9",
   "metadata": {
    "id": "2d8092f9",
    "outputId": "6295492e-8eca-42a0-8253-309d398b5dd0"
   },
   "outputs": [
    {
     "name": "stdout",
     "output_type": "stream",
     "text": [
      "0.03919149557958468\n"
     ]
    }
   ],
   "source": [
    "LR = LinearRegression().fit(X_train.iloc[:,p], y_train)\n",
    "score= LR.score(np.array(X_test.iloc[:,p]), y_test)\n",
    "print(score)"
   ]
  },
  {
   "cell_type": "code",
   "execution_count": null,
   "id": "14216e1e",
   "metadata": {
    "id": "14216e1e",
    "outputId": "c803a485-a4d4-43cc-cb72-48ac11f39eeb"
   },
   "outputs": [
    {
     "name": "stdout",
     "output_type": "stream",
     "text": [
      "-1.1136126466770597\n"
     ]
    }
   ],
   "source": [
    "LR = LinearRegression().fit(X_train, y_train)\n",
    "score= LR.score(X_test, y_test)\n",
    "print(score)"
   ]
  },
  {
   "cell_type": "markdown",
   "id": "5509a004",
   "metadata": {
    "id": "5509a004"
   },
   "source": [
    "MLP:"
   ]
  },
  {
   "cell_type": "code",
   "execution_count": null,
   "id": "5a5b889a",
   "metadata": {
    "id": "5a5b889a"
   },
   "outputs": [],
   "source": [
    "clf = MLPClassifier(random_state=35, max_iter=1000).fit(X_train, y_train)"
   ]
  },
  {
   "cell_type": "code",
   "execution_count": null,
   "id": "e5043872",
   "metadata": {
    "id": "e5043872",
    "outputId": "b171b333-4f4b-487f-a807-6c08aa0acfa3"
   },
   "outputs": [
    {
     "data": {
      "text/plain": [
       "0.390625"
      ]
     },
     "execution_count": 244,
     "metadata": {},
     "output_type": "execute_result"
    }
   ],
   "source": [
    "clf.score(X_test, y_test)"
   ]
  },
  {
   "cell_type": "code",
   "execution_count": null,
   "id": "76204203",
   "metadata": {
    "id": "76204203"
   },
   "outputs": [],
   "source": []
  }
 ],
 "metadata": {
  "colab": {
   "name": "KNN, logit and simple MLP Hongbo Liu.ipynb",
   "provenance": []
  },
  "kernelspec": {
   "display_name": "Python 3 (ipykernel)",
   "language": "python",
   "name": "python3"
  },
  "language_info": {
   "codemirror_mode": {
    "name": "ipython",
    "version": 3
   },
   "file_extension": ".py",
   "mimetype": "text/x-python",
   "name": "python",
   "nbconvert_exporter": "python",
   "pygments_lexer": "ipython3",
   "version": "3.9.7"
  }
 },
 "nbformat": 4,
 "nbformat_minor": 5
}
