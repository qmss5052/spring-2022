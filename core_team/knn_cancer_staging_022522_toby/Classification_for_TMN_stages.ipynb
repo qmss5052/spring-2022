{
  "nbformat": 4,
  "nbformat_minor": 0,
  "metadata": {
    "colab": {
      "name": "Classification for TMN stages.ipynb",
      "provenance": [],
      "collapsed_sections": []
    },
    "kernelspec": {
      "name": "python3",
      "display_name": "Python 3"
    },
    "language_info": {
      "name": "python"
    }
  },
  "cells": [
    {
      "cell_type": "code",
      "execution_count": null,
      "metadata": {
        "id": "fiT3_3XMrfut"
      },
      "outputs": [],
      "source": [
        "import pandas as pd\n",
        "import numpy as np\n",
        "from sklearn.model_selection import train_test_split, cross_val_score\n",
        "from sklearn.model_selection import KFold, StratifiedKFold\n",
        "from sklearn.model_selection import GridSearchCV\n",
        "from sklearn.neighbors import KNeighborsClassifier"
      ]
    },
    {
      "cell_type": "markdown",
      "source": [
        "### Import preprocessed mRNA expression level profile and TNM staging details for each patient\n",
        "\n",
        "Meaning of TMN cancer stages: \n",
        "https://www.cancer.gov/about-cancer/diagnosis-staging/staging\n",
        "\n",
        "Idea behind this analysis is to try and test classification algorithms, to see if mRNA expression profile contains enough information for TMN cancer staging.\n",
        "\n",
        "Each patient sample is assigned a stage for T, N, and M, indicating the stage of cancer progression for the primary tumor, whether the cancer has spread to lymph nodes, or if there is distant metastasis. "
      ],
      "metadata": {
        "id": "44BqcLwMd3CY"
      }
    },
    {
      "cell_type": "code",
      "source": [
        "mRNA_stage_df = pd.read_csv(\"mRNA_levels_cancer_stage.txt\")"
      ],
      "metadata": {
        "id": "LP9gwL6nrz-7"
      },
      "execution_count": null,
      "outputs": []
    },
    {
      "cell_type": "markdown",
      "source": [
        "Separating X and Y features"
      ],
      "metadata": {
        "id": "fk3IYtJ0esdH"
      }
    },
    {
      "cell_type": "code",
      "source": [
        "mRNA_df = mRNA_stage_df.drop([\"PATIENT_ID\", \"M_STAGE\", \"N_STAGE\", \"T_STAGE\"], axis = 1)\n",
        "N_stage = mRNA_stage_df[\"N_STAGE\"].values\n",
        "M_stage = mRNA_stage_df[\"M_STAGE\"].values\n",
        "T_stage = mRNA_stage_df[\"T_STAGE\"].values\n",
        "mRNA_df.head()"
      ],
      "metadata": {
        "colab": {
          "base_uri": "https://localhost:8080/",
          "height": 317
        },
        "id": "jpj72iFXt5gh",
        "outputId": "58c4dd1f-a4af-4d86-e6c0-b0fc99c8339e"
      },
      "execution_count": null,
      "outputs": [
        {
          "output_type": "execute_result",
          "data": {
            "text/html": [
              "\n",
              "  <div id=\"df-6ca55a95-eb6c-401f-b09b-a76bdd46519a\">\n",
              "    <div class=\"colab-df-container\">\n",
              "      <div>\n",
              "<style scoped>\n",
              "    .dataframe tbody tr th:only-of-type {\n",
              "        vertical-align: middle;\n",
              "    }\n",
              "\n",
              "    .dataframe tbody tr th {\n",
              "        vertical-align: top;\n",
              "    }\n",
              "\n",
              "    .dataframe thead th {\n",
              "        text-align: right;\n",
              "    }\n",
              "</style>\n",
              "<table border=\"1\" class=\"dataframe\">\n",
              "  <thead>\n",
              "    <tr style=\"text-align: right;\">\n",
              "      <th></th>\n",
              "      <th>Unnamed: 0</th>\n",
              "      <th>A1BG</th>\n",
              "      <th>A1CF</th>\n",
              "      <th>A1CF.1</th>\n",
              "      <th>A1CF.2</th>\n",
              "      <th>A1CF.3</th>\n",
              "      <th>A2LD1</th>\n",
              "      <th>A2LD1.1</th>\n",
              "      <th>A2M</th>\n",
              "      <th>A2ML1</th>\n",
              "      <th>A4GALT</th>\n",
              "      <th>A4GNT</th>\n",
              "      <th>AAAS</th>\n",
              "      <th>AAAS.1</th>\n",
              "      <th>AACS</th>\n",
              "      <th>AADAC</th>\n",
              "      <th>AADACL2</th>\n",
              "      <th>AADACL3</th>\n",
              "      <th>AADACL3.1</th>\n",
              "      <th>AADACL4</th>\n",
              "      <th>AADAT</th>\n",
              "      <th>AADAT.1</th>\n",
              "      <th>AAGAB</th>\n",
              "      <th>AAK1</th>\n",
              "      <th>AAMP</th>\n",
              "      <th>AANAT</th>\n",
              "      <th>AANAT.1</th>\n",
              "      <th>AARS</th>\n",
              "      <th>AARS2</th>\n",
              "      <th>AARSD1</th>\n",
              "      <th>AARSD1.1</th>\n",
              "      <th>AARSD1.2</th>\n",
              "      <th>AARSD1.3</th>\n",
              "      <th>AASDH</th>\n",
              "      <th>AASDHPPT</th>\n",
              "      <th>AASS</th>\n",
              "      <th>AATF</th>\n",
              "      <th>AATK</th>\n",
              "      <th>AATK.1</th>\n",
              "      <th>ABAT</th>\n",
              "      <th>...</th>\n",
              "      <th>ZSCAN18.1</th>\n",
              "      <th>ZSCAN18.2</th>\n",
              "      <th>ZSCAN18.3</th>\n",
              "      <th>ZSCAN2</th>\n",
              "      <th>ZSCAN2.1</th>\n",
              "      <th>ZSCAN2.2</th>\n",
              "      <th>ZSCAN20</th>\n",
              "      <th>ZSCAN21</th>\n",
              "      <th>ZSCAN22</th>\n",
              "      <th>ZSCAN23</th>\n",
              "      <th>ZSCAN29</th>\n",
              "      <th>ZSCAN30</th>\n",
              "      <th>ZSCAN30.1</th>\n",
              "      <th>ZSCAN4</th>\n",
              "      <th>ZSCAN5A</th>\n",
              "      <th>ZSCAN5B</th>\n",
              "      <th>ZSWIM1</th>\n",
              "      <th>ZSWIM2</th>\n",
              "      <th>ZSWIM3</th>\n",
              "      <th>ZSWIM4</th>\n",
              "      <th>ZSWIM5</th>\n",
              "      <th>ZSWIM6</th>\n",
              "      <th>ZSWIM7</th>\n",
              "      <th>ZSWIM7.1</th>\n",
              "      <th>ZUFSP</th>\n",
              "      <th>ZW10</th>\n",
              "      <th>ZWILCH</th>\n",
              "      <th>ZWINT</th>\n",
              "      <th>ZWINT.1</th>\n",
              "      <th>ZWINT.2</th>\n",
              "      <th>ZXDA</th>\n",
              "      <th>ZXDB</th>\n",
              "      <th>ZXDC</th>\n",
              "      <th>ZXDC.1</th>\n",
              "      <th>ZYG11A</th>\n",
              "      <th>ZYG11B</th>\n",
              "      <th>ZYX</th>\n",
              "      <th>ZYX.1</th>\n",
              "      <th>ZZEF1</th>\n",
              "      <th>ZZZ3</th>\n",
              "    </tr>\n",
              "  </thead>\n",
              "  <tbody>\n",
              "    <tr>\n",
              "      <th>0</th>\n",
              "      <td>1</td>\n",
              "      <td>2.1932</td>\n",
              "      <td>-0.1078</td>\n",
              "      <td>-0.1360</td>\n",
              "      <td>-0.2424</td>\n",
              "      <td>-0.2237</td>\n",
              "      <td>-0.7489</td>\n",
              "      <td>-0.2228</td>\n",
              "      <td>-1.0624</td>\n",
              "      <td>-0.4599</td>\n",
              "      <td>0.5182</td>\n",
              "      <td>-0.4939</td>\n",
              "      <td>0.8676</td>\n",
              "      <td>-0.9954</td>\n",
              "      <td>2.4721</td>\n",
              "      <td>-0.9421</td>\n",
              "      <td>-0.3942</td>\n",
              "      <td>-1.3825</td>\n",
              "      <td>-2.4736</td>\n",
              "      <td>-1.8556</td>\n",
              "      <td>-0.4129</td>\n",
              "      <td>-1.2897</td>\n",
              "      <td>0.4027</td>\n",
              "      <td>0.4582</td>\n",
              "      <td>1.3838</td>\n",
              "      <td>-0.3868</td>\n",
              "      <td>-0.1841</td>\n",
              "      <td>2.8035</td>\n",
              "      <td>0.0887</td>\n",
              "      <td>-1.0011</td>\n",
              "      <td>-0.6256</td>\n",
              "      <td>-1.0288</td>\n",
              "      <td>-0.6351</td>\n",
              "      <td>-0.7955</td>\n",
              "      <td>-0.8185</td>\n",
              "      <td>-1.0664</td>\n",
              "      <td>0.4120</td>\n",
              "      <td>0.4122</td>\n",
              "      <td>-1.4868</td>\n",
              "      <td>-0.8146</td>\n",
              "      <td>...</td>\n",
              "      <td>1.8305</td>\n",
              "      <td>1.1972</td>\n",
              "      <td>1.2219</td>\n",
              "      <td>0.3238</td>\n",
              "      <td>-0.1784</td>\n",
              "      <td>-0.1947</td>\n",
              "      <td>1.4346</td>\n",
              "      <td>-1.4931</td>\n",
              "      <td>3.0452</td>\n",
              "      <td>0.7853</td>\n",
              "      <td>-0.1509</td>\n",
              "      <td>-0.2460</td>\n",
              "      <td>1.3714</td>\n",
              "      <td>-0.4527</td>\n",
              "      <td>1.4072</td>\n",
              "      <td>0.5062</td>\n",
              "      <td>0.2234</td>\n",
              "      <td>-0.7314</td>\n",
              "      <td>-0.4031</td>\n",
              "      <td>-1.0053</td>\n",
              "      <td>3.2261</td>\n",
              "      <td>-0.8413</td>\n",
              "      <td>-0.2540</td>\n",
              "      <td>-0.4850</td>\n",
              "      <td>-1.9779</td>\n",
              "      <td>-0.5921</td>\n",
              "      <td>-0.2813</td>\n",
              "      <td>-0.0488</td>\n",
              "      <td>1.0234</td>\n",
              "      <td>1.9311</td>\n",
              "      <td>-0.3610</td>\n",
              "      <td>-0.7975</td>\n",
              "      <td>2.1574</td>\n",
              "      <td>0.3231</td>\n",
              "      <td>-0.2870</td>\n",
              "      <td>0.7711</td>\n",
              "      <td>-0.4013</td>\n",
              "      <td>-2.1870</td>\n",
              "      <td>0.5752</td>\n",
              "      <td>1.7372</td>\n",
              "    </tr>\n",
              "    <tr>\n",
              "      <th>1</th>\n",
              "      <td>2</td>\n",
              "      <td>0.6506</td>\n",
              "      <td>-0.2093</td>\n",
              "      <td>-0.1355</td>\n",
              "      <td>-0.2424</td>\n",
              "      <td>-0.2237</td>\n",
              "      <td>-0.3498</td>\n",
              "      <td>-0.4392</td>\n",
              "      <td>-0.6533</td>\n",
              "      <td>-0.4599</td>\n",
              "      <td>1.1816</td>\n",
              "      <td>-0.4656</td>\n",
              "      <td>-0.4570</td>\n",
              "      <td>-0.3944</td>\n",
              "      <td>0.8892</td>\n",
              "      <td>-0.7400</td>\n",
              "      <td>-0.3942</td>\n",
              "      <td>-1.3825</td>\n",
              "      <td>-2.4736</td>\n",
              "      <td>-1.8556</td>\n",
              "      <td>0.8198</td>\n",
              "      <td>1.9559</td>\n",
              "      <td>0.4076</td>\n",
              "      <td>-0.6589</td>\n",
              "      <td>1.2138</td>\n",
              "      <td>-1.4208</td>\n",
              "      <td>-0.1778</td>\n",
              "      <td>-0.3303</td>\n",
              "      <td>0.0979</td>\n",
              "      <td>-0.0633</td>\n",
              "      <td>-0.5720</td>\n",
              "      <td>-1.0288</td>\n",
              "      <td>-0.6352</td>\n",
              "      <td>0.5704</td>\n",
              "      <td>0.7716</td>\n",
              "      <td>-1.1267</td>\n",
              "      <td>1.2436</td>\n",
              "      <td>1.9421</td>\n",
              "      <td>2.3481</td>\n",
              "      <td>-0.9512</td>\n",
              "      <td>...</td>\n",
              "      <td>-0.5611</td>\n",
              "      <td>-0.3543</td>\n",
              "      <td>-0.1608</td>\n",
              "      <td>-1.9698</td>\n",
              "      <td>-0.1821</td>\n",
              "      <td>-0.4280</td>\n",
              "      <td>-0.5550</td>\n",
              "      <td>-0.3113</td>\n",
              "      <td>-0.8029</td>\n",
              "      <td>-0.2386</td>\n",
              "      <td>-1.0892</td>\n",
              "      <td>-0.9522</td>\n",
              "      <td>1.0471</td>\n",
              "      <td>-0.5828</td>\n",
              "      <td>-1.8275</td>\n",
              "      <td>-0.7843</td>\n",
              "      <td>-1.1866</td>\n",
              "      <td>0.8646</td>\n",
              "      <td>1.1539</td>\n",
              "      <td>-1.2877</td>\n",
              "      <td>0.4721</td>\n",
              "      <td>-1.3617</td>\n",
              "      <td>-0.8319</td>\n",
              "      <td>0.5386</td>\n",
              "      <td>1.0649</td>\n",
              "      <td>0.9843</td>\n",
              "      <td>0.3566</td>\n",
              "      <td>2.0130</td>\n",
              "      <td>2.4538</td>\n",
              "      <td>1.1699</td>\n",
              "      <td>0.1536</td>\n",
              "      <td>0.3212</td>\n",
              "      <td>-1.1306</td>\n",
              "      <td>-0.0323</td>\n",
              "      <td>0.3615</td>\n",
              "      <td>-0.1175</td>\n",
              "      <td>-0.2012</td>\n",
              "      <td>0.7754</td>\n",
              "      <td>-1.3275</td>\n",
              "      <td>0.2790</td>\n",
              "    </tr>\n",
              "    <tr>\n",
              "      <th>2</th>\n",
              "      <td>3</td>\n",
              "      <td>0.0698</td>\n",
              "      <td>-0.2539</td>\n",
              "      <td>-0.1404</td>\n",
              "      <td>-0.2424</td>\n",
              "      <td>-0.2237</td>\n",
              "      <td>-0.1526</td>\n",
              "      <td>3.0165</td>\n",
              "      <td>-0.4834</td>\n",
              "      <td>-0.4599</td>\n",
              "      <td>-0.0993</td>\n",
              "      <td>-1.0189</td>\n",
              "      <td>-1.0672</td>\n",
              "      <td>-0.8412</td>\n",
              "      <td>0.5574</td>\n",
              "      <td>-0.9421</td>\n",
              "      <td>-0.3942</td>\n",
              "      <td>0.1461</td>\n",
              "      <td>-0.9113</td>\n",
              "      <td>-1.8556</td>\n",
              "      <td>0.5457</td>\n",
              "      <td>0.2024</td>\n",
              "      <td>0.6843</td>\n",
              "      <td>1.8559</td>\n",
              "      <td>0.7741</td>\n",
              "      <td>0.3106</td>\n",
              "      <td>0.2212</td>\n",
              "      <td>-0.5200</td>\n",
              "      <td>-0.3150</td>\n",
              "      <td>-0.8948</td>\n",
              "      <td>1.3483</td>\n",
              "      <td>0.1411</td>\n",
              "      <td>-0.6352</td>\n",
              "      <td>-2.3327</td>\n",
              "      <td>-0.0571</td>\n",
              "      <td>-0.4561</td>\n",
              "      <td>-0.1005</td>\n",
              "      <td>1.4877</td>\n",
              "      <td>0.6089</td>\n",
              "      <td>0.0763</td>\n",
              "      <td>...</td>\n",
              "      <td>0.8959</td>\n",
              "      <td>0.7554</td>\n",
              "      <td>-0.4042</td>\n",
              "      <td>1.1274</td>\n",
              "      <td>1.3990</td>\n",
              "      <td>2.0919</td>\n",
              "      <td>0.3766</td>\n",
              "      <td>-0.0104</td>\n",
              "      <td>0.2402</td>\n",
              "      <td>0.5753</td>\n",
              "      <td>0.1959</td>\n",
              "      <td>0.1196</td>\n",
              "      <td>1.0500</td>\n",
              "      <td>-0.4622</td>\n",
              "      <td>0.7947</td>\n",
              "      <td>0.3235</td>\n",
              "      <td>1.2099</td>\n",
              "      <td>-0.4878</td>\n",
              "      <td>0.6603</td>\n",
              "      <td>0.2226</td>\n",
              "      <td>0.1249</td>\n",
              "      <td>0.2583</td>\n",
              "      <td>-1.9220</td>\n",
              "      <td>-1.1985</td>\n",
              "      <td>-1.3681</td>\n",
              "      <td>-0.4272</td>\n",
              "      <td>1.4475</td>\n",
              "      <td>-0.7796</td>\n",
              "      <td>0.1694</td>\n",
              "      <td>0.3336</td>\n",
              "      <td>-0.2242</td>\n",
              "      <td>-0.2974</td>\n",
              "      <td>0.9671</td>\n",
              "      <td>0.3481</td>\n",
              "      <td>0.0919</td>\n",
              "      <td>1.3154</td>\n",
              "      <td>-0.0333</td>\n",
              "      <td>-0.1646</td>\n",
              "      <td>-0.1237</td>\n",
              "      <td>-0.6929</td>\n",
              "    </tr>\n",
              "    <tr>\n",
              "      <th>3</th>\n",
              "      <td>4</td>\n",
              "      <td>0.7134</td>\n",
              "      <td>-0.2692</td>\n",
              "      <td>-0.1378</td>\n",
              "      <td>-0.2424</td>\n",
              "      <td>-0.2236</td>\n",
              "      <td>-0.5624</td>\n",
              "      <td>-0.4932</td>\n",
              "      <td>0.2838</td>\n",
              "      <td>-0.4599</td>\n",
              "      <td>0.2084</td>\n",
              "      <td>-0.9007</td>\n",
              "      <td>-1.2652</td>\n",
              "      <td>-0.8102</td>\n",
              "      <td>-0.9537</td>\n",
              "      <td>-0.5492</td>\n",
              "      <td>-0.3942</td>\n",
              "      <td>-1.3825</td>\n",
              "      <td>-2.4736</td>\n",
              "      <td>-1.8556</td>\n",
              "      <td>-0.4778</td>\n",
              "      <td>-0.1564</td>\n",
              "      <td>0.3517</td>\n",
              "      <td>-0.1247</td>\n",
              "      <td>-0.3633</td>\n",
              "      <td>-1.4208</td>\n",
              "      <td>-0.1993</td>\n",
              "      <td>-0.6659</td>\n",
              "      <td>0.5792</td>\n",
              "      <td>2.3373</td>\n",
              "      <td>-0.6256</td>\n",
              "      <td>-1.0288</td>\n",
              "      <td>-0.6352</td>\n",
              "      <td>-0.1186</td>\n",
              "      <td>1.6809</td>\n",
              "      <td>-0.8189</td>\n",
              "      <td>0.9866</td>\n",
              "      <td>-1.2695</td>\n",
              "      <td>-1.1678</td>\n",
              "      <td>-0.8862</td>\n",
              "      <td>...</td>\n",
              "      <td>0.3820</td>\n",
              "      <td>0.0918</td>\n",
              "      <td>-0.3456</td>\n",
              "      <td>0.1891</td>\n",
              "      <td>0.3572</td>\n",
              "      <td>-0.2044</td>\n",
              "      <td>-0.5732</td>\n",
              "      <td>0.5979</td>\n",
              "      <td>0.1677</td>\n",
              "      <td>-0.2296</td>\n",
              "      <td>-0.0679</td>\n",
              "      <td>-2.1290</td>\n",
              "      <td>-0.5531</td>\n",
              "      <td>-0.2512</td>\n",
              "      <td>-0.3776</td>\n",
              "      <td>-1.1377</td>\n",
              "      <td>-1.2387</td>\n",
              "      <td>-0.0699</td>\n",
              "      <td>-0.9347</td>\n",
              "      <td>-0.2334</td>\n",
              "      <td>0.4008</td>\n",
              "      <td>-1.3862</td>\n",
              "      <td>0.8607</td>\n",
              "      <td>0.3867</td>\n",
              "      <td>-0.3005</td>\n",
              "      <td>0.1380</td>\n",
              "      <td>-0.1580</td>\n",
              "      <td>0.2439</td>\n",
              "      <td>0.2344</td>\n",
              "      <td>0.3252</td>\n",
              "      <td>1.4015</td>\n",
              "      <td>2.1052</td>\n",
              "      <td>-0.1877</td>\n",
              "      <td>-0.9042</td>\n",
              "      <td>-0.6519</td>\n",
              "      <td>-0.0488</td>\n",
              "      <td>0.3487</td>\n",
              "      <td>-0.0650</td>\n",
              "      <td>-0.4777</td>\n",
              "      <td>0.7618</td>\n",
              "    </tr>\n",
              "    <tr>\n",
              "      <th>4</th>\n",
              "      <td>5</td>\n",
              "      <td>0.4841</td>\n",
              "      <td>-0.3077</td>\n",
              "      <td>-0.1463</td>\n",
              "      <td>-0.2424</td>\n",
              "      <td>-0.2237</td>\n",
              "      <td>-0.0745</td>\n",
              "      <td>-0.6359</td>\n",
              "      <td>0.7415</td>\n",
              "      <td>-0.4599</td>\n",
              "      <td>-0.8501</td>\n",
              "      <td>-1.2229</td>\n",
              "      <td>0.9368</td>\n",
              "      <td>0.7829</td>\n",
              "      <td>-0.7958</td>\n",
              "      <td>0.9748</td>\n",
              "      <td>-0.3567</td>\n",
              "      <td>-1.3825</td>\n",
              "      <td>-2.4736</td>\n",
              "      <td>-1.8556</td>\n",
              "      <td>-0.1455</td>\n",
              "      <td>0.3675</td>\n",
              "      <td>1.8164</td>\n",
              "      <td>-0.3934</td>\n",
              "      <td>1.2561</td>\n",
              "      <td>-0.5840</td>\n",
              "      <td>-0.1594</td>\n",
              "      <td>1.0826</td>\n",
              "      <td>0.2447</td>\n",
              "      <td>0.1820</td>\n",
              "      <td>-0.6256</td>\n",
              "      <td>-1.0287</td>\n",
              "      <td>-0.6352</td>\n",
              "      <td>1.2247</td>\n",
              "      <td>0.6200</td>\n",
              "      <td>-0.0418</td>\n",
              "      <td>-0.6588</td>\n",
              "      <td>0.1631</td>\n",
              "      <td>1.3545</td>\n",
              "      <td>-1.2004</td>\n",
              "      <td>...</td>\n",
              "      <td>0.9198</td>\n",
              "      <td>1.0260</td>\n",
              "      <td>0.9370</td>\n",
              "      <td>0.8617</td>\n",
              "      <td>-0.2778</td>\n",
              "      <td>0.1761</td>\n",
              "      <td>0.2619</td>\n",
              "      <td>1.3396</td>\n",
              "      <td>0.1745</td>\n",
              "      <td>0.8796</td>\n",
              "      <td>1.0738</td>\n",
              "      <td>0.1469</td>\n",
              "      <td>0.6825</td>\n",
              "      <td>0.1471</td>\n",
              "      <td>1.0386</td>\n",
              "      <td>1.1796</td>\n",
              "      <td>-0.4296</td>\n",
              "      <td>-0.9330</td>\n",
              "      <td>1.3948</td>\n",
              "      <td>0.0981</td>\n",
              "      <td>0.3879</td>\n",
              "      <td>1.0778</td>\n",
              "      <td>-0.8023</td>\n",
              "      <td>0.4182</td>\n",
              "      <td>0.5022</td>\n",
              "      <td>0.5231</td>\n",
              "      <td>1.8318</td>\n",
              "      <td>0.2996</td>\n",
              "      <td>0.6521</td>\n",
              "      <td>0.7297</td>\n",
              "      <td>0.5347</td>\n",
              "      <td>-0.0776</td>\n",
              "      <td>0.2938</td>\n",
              "      <td>-0.1048</td>\n",
              "      <td>-0.4315</td>\n",
              "      <td>0.1188</td>\n",
              "      <td>0.7458</td>\n",
              "      <td>0.5608</td>\n",
              "      <td>-0.0328</td>\n",
              "      <td>-0.2793</td>\n",
              "    </tr>\n",
              "  </tbody>\n",
              "</table>\n",
              "<p>5 rows × 31318 columns</p>\n",
              "</div>\n",
              "      <button class=\"colab-df-convert\" onclick=\"convertToInteractive('df-6ca55a95-eb6c-401f-b09b-a76bdd46519a')\"\n",
              "              title=\"Convert this dataframe to an interactive table.\"\n",
              "              style=\"display:none;\">\n",
              "        \n",
              "  <svg xmlns=\"http://www.w3.org/2000/svg\" height=\"24px\"viewBox=\"0 0 24 24\"\n",
              "       width=\"24px\">\n",
              "    <path d=\"M0 0h24v24H0V0z\" fill=\"none\"/>\n",
              "    <path d=\"M18.56 5.44l.94 2.06.94-2.06 2.06-.94-2.06-.94-.94-2.06-.94 2.06-2.06.94zm-11 1L8.5 8.5l.94-2.06 2.06-.94-2.06-.94L8.5 2.5l-.94 2.06-2.06.94zm10 10l.94 2.06.94-2.06 2.06-.94-2.06-.94-.94-2.06-.94 2.06-2.06.94z\"/><path d=\"M17.41 7.96l-1.37-1.37c-.4-.4-.92-.59-1.43-.59-.52 0-1.04.2-1.43.59L10.3 9.45l-7.72 7.72c-.78.78-.78 2.05 0 2.83L4 21.41c.39.39.9.59 1.41.59.51 0 1.02-.2 1.41-.59l7.78-7.78 2.81-2.81c.8-.78.8-2.07 0-2.86zM5.41 20L4 18.59l7.72-7.72 1.47 1.35L5.41 20z\"/>\n",
              "  </svg>\n",
              "      </button>\n",
              "      \n",
              "  <style>\n",
              "    .colab-df-container {\n",
              "      display:flex;\n",
              "      flex-wrap:wrap;\n",
              "      gap: 12px;\n",
              "    }\n",
              "\n",
              "    .colab-df-convert {\n",
              "      background-color: #E8F0FE;\n",
              "      border: none;\n",
              "      border-radius: 50%;\n",
              "      cursor: pointer;\n",
              "      display: none;\n",
              "      fill: #1967D2;\n",
              "      height: 32px;\n",
              "      padding: 0 0 0 0;\n",
              "      width: 32px;\n",
              "    }\n",
              "\n",
              "    .colab-df-convert:hover {\n",
              "      background-color: #E2EBFA;\n",
              "      box-shadow: 0px 1px 2px rgba(60, 64, 67, 0.3), 0px 1px 3px 1px rgba(60, 64, 67, 0.15);\n",
              "      fill: #174EA6;\n",
              "    }\n",
              "\n",
              "    [theme=dark] .colab-df-convert {\n",
              "      background-color: #3B4455;\n",
              "      fill: #D2E3FC;\n",
              "    }\n",
              "\n",
              "    [theme=dark] .colab-df-convert:hover {\n",
              "      background-color: #434B5C;\n",
              "      box-shadow: 0px 1px 3px 1px rgba(0, 0, 0, 0.15);\n",
              "      filter: drop-shadow(0px 1px 2px rgba(0, 0, 0, 0.3));\n",
              "      fill: #FFFFFF;\n",
              "    }\n",
              "  </style>\n",
              "\n",
              "      <script>\n",
              "        const buttonEl =\n",
              "          document.querySelector('#df-6ca55a95-eb6c-401f-b09b-a76bdd46519a button.colab-df-convert');\n",
              "        buttonEl.style.display =\n",
              "          google.colab.kernel.accessAllowed ? 'block' : 'none';\n",
              "\n",
              "        async function convertToInteractive(key) {\n",
              "          const element = document.querySelector('#df-6ca55a95-eb6c-401f-b09b-a76bdd46519a');\n",
              "          const dataTable =\n",
              "            await google.colab.kernel.invokeFunction('convertToInteractive',\n",
              "                                                     [key], {});\n",
              "          if (!dataTable) return;\n",
              "\n",
              "          const docLinkHtml = 'Like what you see? Visit the ' +\n",
              "            '<a target=\"_blank\" href=https://colab.research.google.com/notebooks/data_table.ipynb>data table notebook</a>'\n",
              "            + ' to learn more about interactive tables.';\n",
              "          element.innerHTML = '';\n",
              "          dataTable['output_type'] = 'display_data';\n",
              "          await google.colab.output.renderOutput(dataTable, element);\n",
              "          const docLink = document.createElement('div');\n",
              "          docLink.innerHTML = docLinkHtml;\n",
              "          element.appendChild(docLink);\n",
              "        }\n",
              "      </script>\n",
              "    </div>\n",
              "  </div>\n",
              "  "
            ],
            "text/plain": [
              "   Unnamed: 0    A1BG    A1CF  A1CF.1  ...     ZYX   ZYX.1   ZZEF1    ZZZ3\n",
              "0           1  2.1932 -0.1078 -0.1360  ... -0.4013 -2.1870  0.5752  1.7372\n",
              "1           2  0.6506 -0.2093 -0.1355  ... -0.2012  0.7754 -1.3275  0.2790\n",
              "2           3  0.0698 -0.2539 -0.1404  ... -0.0333 -0.1646 -0.1237 -0.6929\n",
              "3           4  0.7134 -0.2692 -0.1378  ...  0.3487 -0.0650 -0.4777  0.7618\n",
              "4           5  0.4841 -0.3077 -0.1463  ...  0.7458  0.5608 -0.0328 -0.2793\n",
              "\n",
              "[5 rows x 31318 columns]"
            ]
          },
          "metadata": {},
          "execution_count": 4
        }
      ]
    },
    {
      "cell_type": "markdown",
      "source": [
        "### KNN classifier based on lymph node stage (N_stage)\n",
        "\n",
        "CV scores not great for lymph node staging. "
      ],
      "metadata": {
        "id": "TUczdf9quRQL"
      }
    },
    {
      "cell_type": "code",
      "source": [
        "X_train, X_test, y_train, y_test = train_test_split(mRNA_df, N_stage)"
      ],
      "metadata": {
        "id": "f5jnlxNds7EM"
      },
      "execution_count": 27,
      "outputs": []
    },
    {
      "cell_type": "code",
      "source": [
        "knn_classify = KNeighborsClassifier(n_neighbors = 5)\n",
        "knn_classify.fit(X_train, y_train)\n",
        "\n",
        "print(\"KNN classifier, n_neighbors = 5, KFold CV:\")\n",
        "print(\"Mean training set CV score:\\n{:.3f}\".format(\n",
        "    np.mean(cross_val_score(knn_classify, X_train, y_train))))\n",
        "print(\"Test set CV score:\\n{:.3f}\".format(\n",
        "    np.mean(cross_val_score(knn_classify, X_test, y_test))))\n"
      ],
      "metadata": {
        "colab": {
          "base_uri": "https://localhost:8080/"
        },
        "id": "_Kf7FZ9buhgC",
        "outputId": "4b13b9b5-a3bd-48f0-c147-19a2ab983351"
      },
      "execution_count": 28,
      "outputs": [
        {
          "output_type": "stream",
          "name": "stdout",
          "text": [
            "KNN classifier, n_neighbors = 5, KFold CV:\n"
          ]
        },
        {
          "output_type": "stream",
          "name": "stderr",
          "text": [
            "/usr/local/lib/python3.7/dist-packages/sklearn/model_selection/_split.py:680: UserWarning: The least populated class in y has only 1 members, which is less than n_splits=5.\n",
            "  UserWarning,\n"
          ]
        },
        {
          "output_type": "stream",
          "name": "stdout",
          "text": [
            "Mean training set CV score:\n",
            "0.353\n"
          ]
        },
        {
          "output_type": "stream",
          "name": "stderr",
          "text": [
            "/usr/local/lib/python3.7/dist-packages/sklearn/model_selection/_split.py:680: UserWarning: The least populated class in y has only 1 members, which is less than n_splits=5.\n",
            "  UserWarning,\n"
          ]
        },
        {
          "output_type": "stream",
          "name": "stdout",
          "text": [
            "Test set CV score:\n",
            "0.583\n"
          ]
        }
      ]
    },
    {
      "cell_type": "markdown",
      "source": [
        "GridSearchCV for KNN classifier based on lymph node stage"
      ],
      "metadata": {
        "id": "pHOq65PSf1JY"
      }
    },
    {
      "cell_type": "code",
      "source": [
        "# stratified kfold\n",
        "skfold = StratifiedKFold(n_splits = 5, shuffle = True)\n",
        "# kfold with shuffling\n",
        "kfold = KFold(n_splits = 5, shuffle = True)\n",
        "\n",
        "knn_param_grid = {'n_neighbors': np.arange(1, 10, 2)}\n",
        "\n",
        "knn_k_fold_grid = GridSearchCV(KNeighborsClassifier(), \n",
        "                        param_grid = knn_param_grid, \n",
        "                        cv = kfold)\n",
        "\n",
        "knn_sk_fold_grid = GridSearchCV(KNeighborsClassifier(), \n",
        "                        param_grid = knn_param_grid, \n",
        "                        cv = skfold)\n",
        "\n",
        "knn_k_fold_grid.fit(X_train, y_train)\n",
        "knn_sk_fold_grid.fit(X_train, y_train)\n",
        "\n",
        "print(\"KNN Classifier, lymph node stage, k-fold:\")\n",
        "print(\"Best mean CV score: {:.3f}\".format(knn_k_fold_grid.best_score_))\n",
        "print(\"Best parameters: {}\".format(knn_k_fold_grid.best_params_))\n",
        "print(\"Test-set score: {:.3f}\".format(knn_k_fold_grid.score(X_test, y_test)))\n",
        "print(\"\\n\")\n",
        "print(\"KNN Classifier, lymph node stage, stratified k-fold:\")\n",
        "print(\"Best mean CV score: {:.3f}\".format(knn_sk_fold_grid.best_score_))\n",
        "print(\"Best parameters: {}\".format(knn_sk_fold_grid.best_params_))\n",
        "print(\"Test-set score: {:.3f}\".format(knn_sk_fold_grid.score(X_test, y_test)))"
      ],
      "metadata": {
        "colab": {
          "base_uri": "https://localhost:8080/"
        },
        "id": "XiBdi1rLf0wE",
        "outputId": "846dee58-f79b-418d-f609-c2327425cf43"
      },
      "execution_count": 30,
      "outputs": [
        {
          "output_type": "stream",
          "name": "stderr",
          "text": [
            "/usr/local/lib/python3.7/dist-packages/sklearn/model_selection/_split.py:680: UserWarning: The least populated class in y has only 1 members, which is less than n_splits=5.\n",
            "  UserWarning,\n"
          ]
        },
        {
          "output_type": "stream",
          "name": "stdout",
          "text": [
            "KNN Classifier, lymph node stage, k-fold:\n",
            "Best mean CV score: 0.427\n",
            "Best parameters: {'n_neighbors': 7}\n",
            "Test-set score: 0.389\n",
            "\n",
            "\n",
            "KNN Classifier, lymph node stage, stratified k-fold:\n",
            "Best mean CV score: 0.518\n",
            "Best parameters: {'n_neighbors': 9}\n",
            "Test-set score: 0.389\n"
          ]
        }
      ]
    },
    {
      "cell_type": "markdown",
      "source": [
        "### KNN classifier based on Metastasis stage (M_stage)\n",
        "\n",
        "- Good CV scores"
      ],
      "metadata": {
        "id": "fNAX6s2fwFHz"
      }
    },
    {
      "cell_type": "code",
      "source": [
        "X_train, X_test, y_train, y_test = train_test_split(mRNA_df, M_stage)"
      ],
      "metadata": {
        "id": "5RuEYiSfwFH0"
      },
      "execution_count": 24,
      "outputs": []
    },
    {
      "cell_type": "code",
      "source": [
        "knn_classify = KNeighborsClassifier(n_neighbors = 5)\n",
        "knn_classify.fit(X_train, y_train)\n",
        "\n",
        "print(\"KNN classifier, n_neighbors = 5, KFold CV:\")\n",
        "print(\"Mean training set CV score:\\n{:.3f}\".format(\n",
        "    np.mean(cross_val_score(knn_classify, X_train, y_train))))\n",
        "print(\"Test set CV score:\\n{:.3f}\".format(\n",
        "    np.mean(cross_val_score(knn_classify, X_test, y_test))))\n"
      ],
      "metadata": {
        "colab": {
          "base_uri": "https://localhost:8080/"
        },
        "outputId": "7d1846c4-4b38-4bc6-81ce-3b7cd15a0b91",
        "id": "jkJBdxJ2wFH0"
      },
      "execution_count": 25,
      "outputs": [
        {
          "output_type": "stream",
          "name": "stdout",
          "text": [
            "KNN classifier, n_neighbors = 5, KFold CV:\n",
            "Mean training set CV score:\n",
            "0.871\n"
          ]
        },
        {
          "output_type": "stream",
          "name": "stderr",
          "text": [
            "/usr/local/lib/python3.7/dist-packages/sklearn/model_selection/_split.py:680: UserWarning: The least populated class in y has only 1 members, which is less than n_splits=5.\n",
            "  UserWarning,\n"
          ]
        },
        {
          "output_type": "stream",
          "name": "stdout",
          "text": [
            "Test set CV score:\n",
            "0.950\n"
          ]
        }
      ]
    },
    {
      "cell_type": "markdown",
      "source": [
        "This possibly means the mRNA expression profile is adequete for predicting whether the cancer has metastasized. \n",
        "\n",
        "Will we have better performance after feature selection? "
      ],
      "metadata": {
        "id": "y2zXxevU1GQh"
      }
    },
    {
      "cell_type": "markdown",
      "source": [
        "GridSearchCV for KNN classifier based on Metastasis stage\n",
        "\n",
        "- comparing two CV strategies, stratified kfold and kfold (both with shuffling)\n",
        "- Best parameter setting is 3 neighbors. "
      ],
      "metadata": {
        "id": "nV6PcKhkfH2f"
      }
    },
    {
      "cell_type": "code",
      "source": [
        "# stratified kfold\n",
        "skfold = StratifiedKFold(n_splits = 5, shuffle = True)\n",
        "# kfold with shuffling\n",
        "kfold = KFold(n_splits = 5, shuffle = True)\n",
        "\n",
        "knn_param_grid = {'n_neighbors': np.arange(1, 10, 2)}\n",
        "\n",
        "knn_k_fold_grid = GridSearchCV(KNeighborsClassifier(), \n",
        "                        param_grid = knn_param_grid, \n",
        "                        cv = kfold)\n",
        "\n",
        "knn_sk_fold_grid = GridSearchCV(KNeighborsClassifier(), \n",
        "                        param_grid = knn_param_grid, \n",
        "                        cv = skfold)\n",
        "\n",
        "knn_k_fold_grid.fit(X_train, y_train)\n",
        "knn_sk_fold_grid.fit(X_train, y_train)\n",
        "\n",
        "print(\"KNN Classifier, Metastasis stage, k-fold:\")\n",
        "print(\"Best mean CV score: {:.3f}\".format(knn_k_fold_grid.best_score_))\n",
        "print(\"Best parameters: {}\".format(knn_k_fold_grid.best_params_))\n",
        "print(\"Test-set score: {:.3f}\".format(knn_k_fold_grid.score(X_test, y_test)))\n",
        "print(\"\\n\")\n",
        "print(\"KNN Classifier, Metastasis stage, stratified k-fold:\")\n",
        "print(\"Best mean CV score: {:.3f}\".format(knn_sk_fold_grid.best_score_))\n",
        "print(\"Best parameters: {}\".format(knn_sk_fold_grid.best_params_))\n",
        "print(\"Test-set score: {:.3f}\".format(knn_sk_fold_grid.score(X_test, y_test)))"
      ],
      "metadata": {
        "colab": {
          "base_uri": "https://localhost:8080/"
        },
        "id": "bVLbGp2Tw5bN",
        "outputId": "df315833-913f-48c7-ccbd-4d49b1c1ba2e"
      },
      "execution_count": 26,
      "outputs": [
        {
          "output_type": "stream",
          "name": "stdout",
          "text": [
            "KNN Classifier, Metastasis stage, k-fold:\n",
            "Best mean CV score: 0.891\n",
            "Best parameters: {'n_neighbors': 3}\n",
            "Test-set score: 0.944\n",
            "\n",
            "\n",
            "KNN Classifier, Metastasis stage, stratified k-fold:\n",
            "Best mean CV score: 0.871\n",
            "Best parameters: {'n_neighbors': 3}\n",
            "Test-set score: 0.944\n"
          ]
        }
      ]
    },
    {
      "cell_type": "markdown",
      "source": [
        "### KNN classifier based on primary tumor stage (T_stage)\n",
        "\n",
        "CV scores not great for primary tumor staging. "
      ],
      "metadata": {
        "id": "dgo3iIJcwGTm"
      }
    },
    {
      "cell_type": "code",
      "source": [
        "X_train, X_test, y_train, y_test = train_test_split(mRNA_df, T_stage)"
      ],
      "metadata": {
        "id": "X8t1-fdNwGTm"
      },
      "execution_count": 18,
      "outputs": []
    },
    {
      "cell_type": "code",
      "source": [
        "knn_classify = KNeighborsClassifier(n_neighbors = 5)\n",
        "knn_classify.fit(X_train, y_train)\n",
        "\n",
        "print(\"KNN classifier, n_neighbors = 5, KFold CV:\")\n",
        "print(\"Mean training set CV score:\\n{:.3f}\".format(\n",
        "    np.mean(cross_val_score(knn_classify, X_train, y_train))))\n",
        "print(\"Test set CV score:\\n{:.3f}\".format(\n",
        "    np.mean(cross_val_score(knn_classify, X_test, y_test))))"
      ],
      "metadata": {
        "colab": {
          "base_uri": "https://localhost:8080/"
        },
        "outputId": "9b373d8c-9a10-42ba-dca2-da18e053e0e7",
        "id": "D2LSEYS_wGTn"
      },
      "execution_count": 20,
      "outputs": [
        {
          "output_type": "stream",
          "name": "stdout",
          "text": [
            "KNN classifier, n_neighbors = 5, KFold CV:\n",
            "Mean training set CV score:\n",
            "0.480\n"
          ]
        },
        {
          "output_type": "stream",
          "name": "stderr",
          "text": [
            "/usr/local/lib/python3.7/dist-packages/sklearn/model_selection/_split.py:680: UserWarning: The least populated class in y has only 1 members, which is less than n_splits=5.\n",
            "  UserWarning,\n"
          ]
        },
        {
          "output_type": "stream",
          "name": "stdout",
          "text": [
            "Test set CV score:\n",
            "0.333\n"
          ]
        }
      ]
    },
    {
      "cell_type": "markdown",
      "source": [
        "GridSearchCV for KNN classifier based on primary tumor stage (T_stage)"
      ],
      "metadata": {
        "id": "sd98YeQThBBd"
      }
    },
    {
      "cell_type": "code",
      "source": [
        "# stratified kfold\n",
        "skfold = StratifiedKFold(n_splits = 5, shuffle = True)\n",
        "# kfold with shuffling\n",
        "kfold = KFold(n_splits = 5, shuffle = True)\n",
        "\n",
        "knn_param_grid = {'n_neighbors': np.arange(1, 10, 2)}\n",
        "\n",
        "knn_k_fold_grid = GridSearchCV(KNeighborsClassifier(), \n",
        "                        param_grid = knn_param_grid, \n",
        "                        cv = kfold)\n",
        "\n",
        "knn_sk_fold_grid = GridSearchCV(KNeighborsClassifier(), \n",
        "                        param_grid = knn_param_grid, \n",
        "                        cv = skfold)\n",
        "\n",
        "knn_k_fold_grid.fit(X_train, y_train)\n",
        "knn_sk_fold_grid.fit(X_train, y_train)\n",
        "\n",
        "print(\"KNN Classifier, primary tumor stage, k-fold:\")\n",
        "print(\"Best mean CV score: {:.3f}\".format(knn_k_fold_grid.best_score_))\n",
        "print(\"Best parameters: {}\".format(knn_k_fold_grid.best_params_))\n",
        "print(\"Test-set score: {:.3f}\".format(knn_k_fold_grid.score(X_test, y_test)))\n",
        "print(\"\\n\")\n",
        "print(\"KNN Classifier, primary tumor stage, stratified k-fold:\")\n",
        "print(\"Best mean CV score: {:.3f}\".format(knn_sk_fold_grid.best_score_))\n",
        "print(\"Best parameters: {}\".format(knn_sk_fold_grid.best_params_))\n",
        "print(\"Test-set score: {:.3f}\".format(knn_sk_fold_grid.score(X_test, y_test)))"
      ],
      "metadata": {
        "colab": {
          "base_uri": "https://localhost:8080/"
        },
        "id": "USDEQ6wqhAvI",
        "outputId": "881d92ae-354f-45c1-d108-95634ba5119c"
      },
      "execution_count": 22,
      "outputs": [
        {
          "output_type": "stream",
          "name": "stdout",
          "text": [
            "KNN Classifier, primary tumor stage, k-fold:\n",
            "Best mean CV score: 0.478\n",
            "Best parameters: {'n_neighbors': 1}\n",
            "Test-set score: 0.222\n",
            "\n",
            "\n",
            "KNN Classifier, primary tumor stage, stratified k-fold:\n",
            "Best mean CV score: 0.482\n",
            "Best parameters: {'n_neighbors': 1}\n",
            "Test-set score: 0.222\n"
          ]
        }
      ]
    }
  ]
}